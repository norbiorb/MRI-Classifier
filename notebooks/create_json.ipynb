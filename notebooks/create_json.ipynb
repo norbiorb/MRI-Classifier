{
 "cells": [
  {
   "cell_type": "markdown",
   "metadata": {},
   "source": [
    "## Create a .json file from labelled images"
   ]
  },
  {
   "cell_type": "code",
   "execution_count": 8,
   "metadata": {},
   "outputs": [],
   "source": [
    "from pathlib import Path\n",
    "import os\n",
    "import json"
   ]
  },
  {
   "cell_type": "markdown",
   "metadata": {},
   "source": [
    "Get all file names as path object"
   ]
  },
  {
   "cell_type": "code",
   "execution_count": 9,
   "metadata": {},
   "outputs": [],
   "source": [
    "cwd = os.getcwd()\n",
    "wd = Path(cwd).parents[0]"
   ]
  },
  {
   "cell_type": "code",
   "execution_count": 10,
   "metadata": {},
   "outputs": [],
   "source": [
    "file_list = [p for p in wd.joinpath('data\\images').iterdir() if p.is_file()]"
   ]
  },
  {
   "cell_type": "code",
   "execution_count": 9,
   "metadata": {},
   "outputs": [],
   "source": [
    "#file_list"
   ]
  },
  {
   "cell_type": "markdown",
   "metadata": {},
   "source": [
    "Convert path object to string, remove `data` and `images` part of string"
   ]
  },
  {
   "cell_type": "code",
   "execution_count": 11,
   "metadata": {},
   "outputs": [],
   "source": [
    "string_file_list = [p.as_posix().split('/')[-1] for p in file_list]"
   ]
  },
  {
   "cell_type": "code",
   "execution_count": 12,
   "metadata": {},
   "outputs": [],
   "source": [
    "string_file_list = [p.split('.')[0] for p in string_file_list] # remove '.jpg'"
   ]
  },
  {
   "cell_type": "code",
   "execution_count": 5,
   "metadata": {},
   "outputs": [],
   "source": [
    "#string_file_list"
   ]
  },
  {
   "cell_type": "markdown",
   "metadata": {},
   "source": [
    "Create dictionary to be saved as json file\n",
    "\n",
    "Each image has it's own id number (ranging from 0 to n-images)"
   ]
  },
  {
   "cell_type": "code",
   "execution_count": 13,
   "metadata": {},
   "outputs": [],
   "source": [
    "json_dict = {}\n",
    "\n",
    "for i, string in enumerate(string_file_list):\n",
    "    components = string.split('_')\n",
    "    \"\"\"\n",
    "    Total 6 components:\n",
    "    0) Perspective - AX/SAG/COR\n",
    "    1) MRI Sequence - T1/T2/T1KM/PD etc.\n",
    "    2) Glioma - can ignore for now\n",
    "    3) GBM - can ignore for now\n",
    "    4) Patient ID - TCGAXXXXXX\n",
    "    5) Image number - 1/2/3 etc.\n",
    "    \"\"\"\n",
    "    # temp dict to store important information for each image\n",
    "    temp_dict = {\n",
    "        'patient-id': components[4],\n",
    "        'perspective': components[0],\n",
    "        'sequence': components[1],\n",
    "        'perspective-sequence': components[0] + '-' + components[1],\n",
    "        'labels': [components[0], components[1]],\n",
    "        'image-number': components[5],\n",
    "        'image-name': string + '.jpg'\n",
    "    }\n",
    "    json_dict[i] = temp_dict\n",
    "    "
   ]
  },
  {
   "cell_type": "code",
   "execution_count": 16,
   "metadata": {},
   "outputs": [
    {
     "name": "stdout",
     "output_type": "stream",
     "text": [
      "There are 409 images in the json.\n"
     ]
    }
   ],
   "source": [
    "print('There are {} images in the json.'.format(len(json_dict)))"
   ]
  },
  {
   "cell_type": "code",
   "execution_count": 14,
   "metadata": {},
   "outputs": [],
   "source": [
    "#json_dict"
   ]
  },
  {
   "cell_type": "markdown",
   "metadata": {},
   "source": [
    "Save .json file"
   ]
  },
  {
   "cell_type": "code",
   "execution_count": 17,
   "metadata": {},
   "outputs": [],
   "source": [
    "with open('mri-images.json', 'w') as fp:\n",
    "    json.dump(json_dict, fp)"
   ]
  },
  {
   "cell_type": "code",
   "execution_count": null,
   "metadata": {},
   "outputs": [],
   "source": []
  }
 ],
 "metadata": {
  "kernelspec": {
   "display_name": "propulsion",
   "language": "python",
   "name": "propulsion"
  },
  "language_info": {
   "codemirror_mode": {
    "name": "ipython",
    "version": 3
   },
   "file_extension": ".py",
   "mimetype": "text/x-python",
   "name": "python",
   "nbconvert_exporter": "python",
   "pygments_lexer": "ipython3",
   "version": "3.8.3"
  }
 },
 "nbformat": 4,
 "nbformat_minor": 4
}
